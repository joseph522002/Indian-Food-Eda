{
  "cells": [
    {
      "cell_type": "markdown",
      "metadata": {
        "id": "wRAUuk38I1nE"
      },
      "source": [
        "AI ML Assignment 1 (Basic Python)"
      ]
    },
    {
      "cell_type": "markdown",
      "metadata": {
        "id": "tLB2_OWrIzSo"
      },
      "source": [
        "Create two list and join those two list"
      ]
    },
    {
      "cell_type": "code",
      "execution_count": null,
      "metadata": {
        "colab": {
          "base_uri": "https://localhost:8080/"
        },
        "id": "zEe_CFIXFnkb",
        "outputId": "c23f387e-b1fb-495d-c200-e010adf8282c"
      },
      "outputs": [
        {
          "name": "stdout",
          "output_type": "stream",
          "text": [
            "[1, 2, 3, 4, 'a', 'b', 'c', 'd']\n"
          ]
        }
      ],
      "source": [
        "list_a = [1, 2, 3, 4]\n",
        "list_b = ['a', 'b', 'c', 'd']\n",
        "\n",
        "combined_list = list_a + list_b\n",
        "print(combined_list)  "
      ]
    },
    {
      "cell_type": "markdown",
      "metadata": {
        "id": "S6ODhLqkI9Cb"
      },
      "source": [
        "With If statement find the even numbers"
      ]
    },
    {
      "cell_type": "code",
      "execution_count": null,
      "metadata": {
        "colab": {
          "base_uri": "https://localhost:8080/"
        },
        "id": "l1ghs1SCF1W5",
        "outputId": "02fdd604-9767-47ad-d011-53f96e786346"
      },
      "outputs": [
        {
          "name": "stdout",
          "output_type": "stream",
          "text": [
            "[2, 4, 6, 8, 10]\n"
          ]
        }
      ],
      "source": [
        "numbers = [1, 2, 3, 4, 5, 6, 7, 8, 9, 10]\n",
        "even_numbers = []\n",
        "\n",
        "for num in numbers:\n",
        "    if num % 2 == 0: \n",
        "        even_numbers.append(num)\n",
        "\n",
        "print(even_numbers)"
      ]
    },
    {
      "cell_type": "markdown",
      "metadata": {
        "id": "F8J8AY9DJBiN"
      },
      "source": [
        "Create a dictionary with 3 keys and 2 values for each key"
      ]
    },
    {
      "cell_type": "code",
      "execution_count": null,
      "metadata": {
        "colab": {
          "base_uri": "https://localhost:8080/"
        },
        "id": "a-p4-i6dF1Zo",
        "outputId": "729c9e36-a4e4-44d4-b55f-9b01f1b2a573"
      },
      "outputs": [
        {
          "name": "stdout",
          "output_type": "stream",
          "text": [
            "{'key1': ['value1a', 'value1b'], 'key2': ['value2a', 'value2b'], 'key3': ['value3a', 'value3b']}\n"
          ]
        }
      ],
      "source": [
        "my_dict = {\n",
        "    \"key1\": [\"value1a\", \"value1b\"],\n",
        "    \"key2\": [\"value2a\", \"value2b\"],\n",
        "    \"key3\": [\"value3a\", \"value3b\"]\n",
        "}\n",
        "\n",
        "print(my_dict)\n"
      ]
    },
    {
      "cell_type": "markdown",
      "metadata": {
        "id": "EjhTFlzLJEe3"
      },
      "source": [
        "Create a function with If statement whis is used to find the odd numbers"
      ]
    },
    {
      "cell_type": "code",
      "execution_count": null,
      "metadata": {
        "colab": {
          "base_uri": "https://localhost:8080/"
        },
        "id": "UgDw0A5OF1fM",
        "outputId": "38c56c82-0468-492a-e873-1f96b1345121"
      },
      "outputs": [
        {
          "name": "stdout",
          "output_type": "stream",
          "text": [
            "[1, 3, 5, 7, 9]\n"
          ]
        }
      ],
      "source": [
        "def find_odd_numbers(numbers):\n",
        "    odd_numbers = []\n",
        "\n",
        "    for num in numbers:\n",
        "        if num % 2 != 0:  \n",
        "            odd_numbers.append(num)\n",
        "\n",
        "    return odd_numbers\n",
        "\n",
        "\n",
        "numbers_list = [1, 2, 3, 4, 5, 6, 7, 8, 9, 10]\n",
        "print(find_odd_numbers(numbers_list))\n"
      ]
    },
    {
      "cell_type": "markdown",
      "metadata": {
        "id": "0SEbNy0vJJA5"
      },
      "source": [
        "Write a Python function to sum all the numbers in a list."
      ]
    },
    {
      "cell_type": "code",
      "execution_count": null,
      "metadata": {
        "colab": {
          "base_uri": "https://localhost:8080/"
        },
        "id": "f0pqdjI6GovC",
        "outputId": "1180f250-4c4f-47d5-aa19-f0403dec0d5d"
      },
      "outputs": [
        {
          "name": "stdout",
          "output_type": "stream",
          "text": [
            "15\n"
          ]
        }
      ],
      "source": [
        "def sum_numbers(numbers):\n",
        "    total = 0\n",
        "    for num in numbers:\n",
        "        total += num\n",
        "    return total\n",
        "\n",
        "\n",
        "numbers_list = [1, 2, 3, 4, 5]\n",
        "print(sum_numbers(numbers_list))"
      ]
    },
    {
      "cell_type": "markdown",
      "metadata": {
        "id": "swecM-l7JSDq"
      },
      "source": [
        "Sample List : (8, 2, 3, 0, 7)\n",
        "\n",
        "\n",
        "Expected Output : 20"
      ]
    },
    {
      "cell_type": "code",
      "execution_count": null,
      "metadata": {
        "colab": {
          "base_uri": "https://localhost:8080/"
        },
        "id": "Jkt0STQbGoxh",
        "outputId": "d0a95034-6da7-4b9e-ee8a-33d51c4b52c9"
      },
      "outputs": [
        {
          "name": "stdout",
          "output_type": "stream",
          "text": [
            "20\n"
          ]
        }
      ],
      "source": [
        "def sum_numbers(numbers):\n",
        "    return sum(numbers)\n",
        "\n",
        "\n",
        "sample_list = (8, 2, 3, 0, 7)\n",
        "print(sum_numbers(sample_list))"
      ]
    },
    {
      "cell_type": "code",
      "execution_count": null,
      "metadata": {
        "id": "TLiuGUn2Go06"
      },
      "outputs": [],
      "source": []
    }
  ],
  "metadata": {
    "colab": {
      "provenance": []
    },
    "kernelspec": {
      "display_name": "Python 3",
      "name": "python3"
    },
    "language_info": {
      "name": "python"
    }
  },
  "nbformat": 4,
  "nbformat_minor": 0
}
