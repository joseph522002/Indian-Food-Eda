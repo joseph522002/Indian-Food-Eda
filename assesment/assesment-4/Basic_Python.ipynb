{
  "nbformat": 4,
  "nbformat_minor": 0,
  "metadata": {
    "colab": {
      "provenance": []
    },
    "kernelspec": {
      "name": "python3",
      "display_name": "Python 3"
    },
    "language_info": {
      "name": "python"
    }
  },
  "cells": [
    {
      "cell_type": "markdown",
      "source": [
        "AI ML Assignment 1 (Basic Python)"
      ],
      "metadata": {
        "id": "wRAUuk38I1nE"
      }
    },
    {
      "cell_type": "markdown",
      "source": [
        "Create two list and join those two list"
      ],
      "metadata": {
        "id": "tLB2_OWrIzSo"
      }
    },
    {
      "cell_type": "code",
      "execution_count": null,
      "metadata": {
        "colab": {
          "base_uri": "https://localhost:8080/"
        },
        "id": "zEe_CFIXFnkb",
        "outputId": "c23f387e-b1fb-495d-c200-e010adf8282c"
      },
      "outputs": [
        {
          "output_type": "stream",
          "name": "stdout",
          "text": [
            "[1, 2, 3, 4, 'a', 'b', 'c', 'd']\n"
          ]
        }
      ],
      "source": [
        "list_a = [1, 2, 3, 4]\n",
        "list_b = ['a', 'b', 'c', 'd']\n",
        "\n",
        "combined_list = list_a + list_b\n",
        "print(combined_list)  # Output: [1, 2, 3, 4, 'a', 'b', 'c', 'd']\n"
      ]
    },
    {
      "cell_type": "markdown",
      "source": [
        "With If statement find the even numbers"
      ],
      "metadata": {
        "id": "S6ODhLqkI9Cb"
      }
    },
    {
      "cell_type": "code",
      "source": [
        "numbers = [1, 2, 3, 4, 5, 6, 7, 8, 9, 10]\n",
        "even_numbers = []\n",
        "\n",
        "for num in numbers:\n",
        "    if num % 2 == 0:  # If the remainder when divided by 2 is zero, then the number is even.\n",
        "        even_numbers.append(num)\n",
        "\n",
        "print(even_numbers)"
      ],
      "metadata": {
        "colab": {
          "base_uri": "https://localhost:8080/"
        },
        "id": "l1ghs1SCF1W5",
        "outputId": "02fdd604-9767-47ad-d011-53f96e786346"
      },
      "execution_count": null,
      "outputs": [
        {
          "output_type": "stream",
          "name": "stdout",
          "text": [
            "[2, 4, 6, 8, 10]\n"
          ]
        }
      ]
    },
    {
      "cell_type": "markdown",
      "source": [
        "Create a dictionary with 3 keys and 2 values for each key"
      ],
      "metadata": {
        "id": "F8J8AY9DJBiN"
      }
    },
    {
      "cell_type": "code",
      "source": [
        "my_dict = {\n",
        "    \"key1\": [\"value1a\", \"value1b\"],\n",
        "    \"key2\": [\"value2a\", \"value2b\"],\n",
        "    \"key3\": [\"value3a\", \"value3b\"]\n",
        "}\n",
        "\n",
        "print(my_dict)\n"
      ],
      "metadata": {
        "colab": {
          "base_uri": "https://localhost:8080/"
        },
        "id": "a-p4-i6dF1Zo",
        "outputId": "729c9e36-a4e4-44d4-b55f-9b01f1b2a573"
      },
      "execution_count": null,
      "outputs": [
        {
          "output_type": "stream",
          "name": "stdout",
          "text": [
            "{'key1': ['value1a', 'value1b'], 'key2': ['value2a', 'value2b'], 'key3': ['value3a', 'value3b']}\n"
          ]
        }
      ]
    },
    {
      "cell_type": "markdown",
      "source": [
        "Create a function with If statement whis is used to find the odd numbers"
      ],
      "metadata": {
        "id": "EjhTFlzLJEe3"
      }
    },
    {
      "cell_type": "code",
      "source": [
        "def find_odd_numbers(numbers):\n",
        "    odd_numbers = []\n",
        "\n",
        "    for num in numbers:\n",
        "        if num % 2 != 0:  # If the remainder when divided by 2 is not zero, then the number is odd.\n",
        "            odd_numbers.append(num)\n",
        "\n",
        "    return odd_numbers\n",
        "\n",
        "# Example usage:\n",
        "numbers_list = [1, 2, 3, 4, 5, 6, 7, 8, 9, 10]\n",
        "print(find_odd_numbers(numbers_list))\n"
      ],
      "metadata": {
        "colab": {
          "base_uri": "https://localhost:8080/"
        },
        "id": "UgDw0A5OF1fM",
        "outputId": "38c56c82-0468-492a-e873-1f96b1345121"
      },
      "execution_count": null,
      "outputs": [
        {
          "output_type": "stream",
          "name": "stdout",
          "text": [
            "[1, 3, 5, 7, 9]\n"
          ]
        }
      ]
    },
    {
      "cell_type": "markdown",
      "source": [
        "Write a Python function to sum all the numbers in a list."
      ],
      "metadata": {
        "id": "0SEbNy0vJJA5"
      }
    },
    {
      "cell_type": "code",
      "source": [
        "def sum_numbers(numbers):\n",
        "    total = 0\n",
        "    for num in numbers:\n",
        "        total += num\n",
        "    return total\n",
        "\n",
        "# Example usage:\n",
        "numbers_list = [1, 2, 3, 4, 5]\n",
        "print(sum_numbers(numbers_list))"
      ],
      "metadata": {
        "colab": {
          "base_uri": "https://localhost:8080/"
        },
        "id": "f0pqdjI6GovC",
        "outputId": "1180f250-4c4f-47d5-aa19-f0403dec0d5d"
      },
      "execution_count": null,
      "outputs": [
        {
          "output_type": "stream",
          "name": "stdout",
          "text": [
            "15\n"
          ]
        }
      ]
    },
    {
      "cell_type": "markdown",
      "source": [
        "Sample List : (8, 2, 3, 0, 7)\n",
        "\n",
        "\n",
        "Expected Output : 20"
      ],
      "metadata": {
        "id": "swecM-l7JSDq"
      }
    },
    {
      "cell_type": "code",
      "source": [
        "def sum_numbers(numbers):\n",
        "    return sum(numbers)\n",
        "\n",
        "# Example usage:\n",
        "sample_list = (8, 2, 3, 0, 7)\n",
        "print(sum_numbers(sample_list))"
      ],
      "metadata": {
        "colab": {
          "base_uri": "https://localhost:8080/"
        },
        "id": "Jkt0STQbGoxh",
        "outputId": "d0a95034-6da7-4b9e-ee8a-33d51c4b52c9"
      },
      "execution_count": null,
      "outputs": [
        {
          "output_type": "stream",
          "name": "stdout",
          "text": [
            "20\n"
          ]
        }
      ]
    },
    {
      "cell_type": "code",
      "source": [],
      "metadata": {
        "id": "TLiuGUn2Go06"
      },
      "execution_count": null,
      "outputs": []
    }
  ]
}